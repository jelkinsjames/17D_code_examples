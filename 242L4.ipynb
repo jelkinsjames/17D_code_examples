{
  "cells": [
    {
      "cell_type": "markdown",
      "metadata": {
        "id": "view-in-github",
        "colab_type": "text"
      },
      "source": [
        "<a href=\"https://colab.research.google.com/github/jelkinsjames/17D_code_examples/blob/main/242L4.ipynb\" target=\"_parent\"><img src=\"https://colab.research.google.com/assets/colab-badge.svg\" alt=\"Open In Colab\"/></a>"
      ]
    },
    {
      "cell_type": "markdown",
      "metadata": {
        "id": "brtxx3L43gd2"
      },
      "source": [
        "## EE 242 Lab 4 – Digital Filtering\n",
        "\n",
        "Authors: Julian James, Dylan Imayama, Jason Bently, Neil Lindgren\n",
        "\n",
        "(This should be a markup cell, which means that when you run it you just get formated text.)"
      ]
    },
    {
      "cell_type": "code",
      "execution_count": 1,
      "metadata": {
        "id": "s4HN3Ikc3gd9",
        "colab": {
          "base_uri": "https://localhost:8080/",
          "height": 373
        },
        "outputId": "c5ff2042-90db-42e7-88f1-3190e1bf2a61"
      },
      "outputs": [
        {
          "output_type": "error",
          "ename": "ModuleNotFoundError",
          "evalue": "ignored",
          "traceback": [
            "\u001b[0;31m---------------------------------------------------------------------------\u001b[0m",
            "\u001b[0;31mModuleNotFoundError\u001b[0m                       Traceback (most recent call last)",
            "\u001b[0;32m<ipython-input-1-ded9c23ec4f7>\u001b[0m in \u001b[0;36m<module>\u001b[0;34m\u001b[0m\n\u001b[1;32m      2\u001b[0m \u001b[0;32mimport\u001b[0m \u001b[0mnumpy\u001b[0m \u001b[0;32mas\u001b[0m \u001b[0mnp\u001b[0m\u001b[0;34m\u001b[0m\u001b[0;34m\u001b[0m\u001b[0m\n\u001b[1;32m      3\u001b[0m \u001b[0;32mimport\u001b[0m \u001b[0mmatplotlib\u001b[0m\u001b[0;34m.\u001b[0m\u001b[0mpyplot\u001b[0m \u001b[0;32mas\u001b[0m \u001b[0mplt\u001b[0m\u001b[0;34m\u001b[0m\u001b[0;34m\u001b[0m\u001b[0m\n\u001b[0;32m----> 4\u001b[0;31m \u001b[0;32mimport\u001b[0m \u001b[0msimpleaudio\u001b[0m \u001b[0;32mas\u001b[0m \u001b[0msa\u001b[0m\u001b[0;34m\u001b[0m\u001b[0;34m\u001b[0m\u001b[0m\n\u001b[0m\u001b[1;32m      5\u001b[0m \u001b[0;32mimport\u001b[0m \u001b[0mdecimal\u001b[0m\u001b[0;34m\u001b[0m\u001b[0;34m\u001b[0m\u001b[0m\n\u001b[1;32m      6\u001b[0m \u001b[0;32mimport\u001b[0m \u001b[0mmath\u001b[0m\u001b[0;34m\u001b[0m\u001b[0;34m\u001b[0m\u001b[0m\n",
            "\u001b[0;31mModuleNotFoundError\u001b[0m: No module named 'simpleaudio'",
            "",
            "\u001b[0;31m---------------------------------------------------------------------------\u001b[0;32m\nNOTE: If your import is failing due to a missing package, you can\nmanually install dependencies using either !pip or !apt.\n\nTo view examples of installing some common dependencies, click the\n\"Open Examples\" button below.\n\u001b[0;31m---------------------------------------------------------------------------\u001b[0m\n"
          ],
          "errorDetails": {
            "actions": [
              {
                "action": "open_url",
                "actionText": "Open Examples",
                "url": "/notebooks/snippets/importing_libraries.ipynb"
              }
            ]
          }
        }
      ],
      "source": [
        "from scipy.io import wavfile as wav\n",
        "import numpy as np\n",
        "import matplotlib.pyplot as plt\n",
        "!pip install simpleaudio\n",
        "import simpleaudio as sa\n",
        "import decimal\n",
        "import math\n",
        "from scipy import signal as sig\n",
        "%matplotlib inline"
      ]
    },
    {
      "cell_type": "markdown",
      "metadata": {
        "id": "tNlvARG73gd_"
      },
      "source": [
        "## Summary\n",
        "\n",
        "In this lab, we will consider different types of digital filters (specifically discrete-time, linear, \n",
        "time-invariant filters) and look at their characterization in both time and frequency."
      ]
    },
    {
      "cell_type": "markdown",
      "metadata": {
        "id": "U_WiycXc3geB"
      },
      "source": [
        "## Lab 4 turn in checklist\n",
        "\n",
        "•\tPre-lab (upload to canvas before lab)\n",
        "\n",
        "•\tLab 4 Jupyter notebook with code for the first 4 exercises assignment in separate cells. Each assignment cell should contain markdown cells (same as lab overview cells) for the responses to lab report questions. Include your lab members’ names at the top of the notebook.\n",
        "\n",
        "•\t1 individual Jupyter notebook with code + markdown cells for the last exercise\n",
        "\n",
        "Note: The pre-lab should be done individually, and all other assignments should be completed in groups of 2-3 people.\n"
      ]
    },
    {
      "cell_type": "markdown",
      "metadata": {
        "id": "TYpYm4lC3geC"
      },
      "source": [
        "## Assignment 1 -- Different Filter Implementations\n"
      ]
    },
    {
      "cell_type": "code",
      "execution_count": null,
      "metadata": {
        "id": "XUbJ6lzP3geD"
      },
      "outputs": [],
      "source": [
        "# Part A\n",
        "\n",
        "   # plot_phase and fs are 0 by default, feel free to change the default values\n",
        "    # If plot_phase is 0, do not plot the phase response, else plot the phase response\n",
        "    # If fs is 0, the x axis would be in radians, otherwise it would be in Hz based on the sampling frequency provided\n",
        "    # Use signal.freqz to get your frequency response \n",
        "\n",
        "def plot_mag_freq_response(b, a, plot_phase, fs):\n",
        "    w, hf = sig.freqz(b,a)\n",
        "    if (fs != 0):\n",
        "        w = w*fs/(2*np.pi)\n",
        "    if (plot_phase == 0):\n",
        "        plt.plot(w, 20*np.log10(np.abs(hf)))\n",
        "        plt.ylim(-100,10)\n",
        "\n",
        "    else:  \n",
        "        plt.figure(figsize = (25,10))\n",
        "        plt.subplot(1,2,1)\n",
        "        plt.plot(w, 20*np.log10(np.abs(hf)))\n",
        "        plt.ylim(-100,10)\n",
        "      \n",
        "        plt.subplot(1,2,2)\n",
        "        plt.plot(w, np.rad2deg(np.unwrap(np.angle(hf))))\n",
        "     "
      ]
    },
    {
      "cell_type": "code",
      "execution_count": null,
      "metadata": {
        "id": "AyAod0WS3geE"
      },
      "outputs": [],
      "source": [
        "# Part B\n",
        "# Hint: Use signal.lfilter \n",
        "def plot_impulse_response(b, a, imp_length):\n",
        "    signal = np.zeros(imp_length)\n",
        "    signal[0] = 1\n",
        "    y = sig.lfilter(b, a, signal)\n",
        "    plt.stem(y)"
      ]
    },
    {
      "cell_type": "code",
      "execution_count": null,
      "metadata": {
        "id": "GOGk-S6p3geF"
      },
      "outputs": [],
      "source": [
        "# Part C\n",
        "# Use signal.firwin and signal.butter\n",
        "fir_b = sig.firwin(20, 0.15)\n",
        "iir_b, iir_a = sig.butter(10, 0.15, 'lowpass')"
      ]
    },
    {
      "cell_type": "code",
      "source": [
        "#IIR lowpass magnitude and frequency\n",
        "plot_mag_freq_response(iir_b, iir_a,1,0)"
      ],
      "metadata": {
        "id": "knb85qrDGgUV"
      },
      "execution_count": null,
      "outputs": []
    },
    {
      "cell_type": "code",
      "source": [
        "#IIR impulse\n",
        "plot_impulse_response(iir_b, iir_a, 100)"
      ],
      "metadata": {
        "id": "W5kIS51BGgh8"
      },
      "execution_count": null,
      "outputs": []
    },
    {
      "cell_type": "code",
      "source": [
        "#FIR lowpass magnitude and phase\n",
        "plot_mag_freq_response(fir_b,1,1,0)"
      ],
      "metadata": {
        "id": "vG8VjaU9Gg2N"
      },
      "execution_count": null,
      "outputs": []
    },
    {
      "cell_type": "code",
      "source": [
        "#FIR impulse\n",
        "plot_impulse_response(fir_b, 1, 100)"
      ],
      "metadata": {
        "id": "7pOI-vynGhHc"
      },
      "execution_count": null,
      "outputs": []
    },
    {
      "cell_type": "markdown",
      "metadata": {
        "id": "0A_RZ-yE3geF"
      },
      "source": [
        "###  Discussion\n",
        "The two filters produce absoluetely different results. The IIR filter generates a tradiational phase and magnitude plot and a sinusoidal response. The FIR filter, on the other hand, generates a non-tradiational magnitude and phase, and a triangular impulse response. The FIR filter is beneficial for situations where you would like a finiate response with sharp edges. The IIR filter may be better for sound processing where you do not want sharp dips, or spikes."
      ]
    },
    {
      "cell_type": "markdown",
      "metadata": {
        "id": "rO_X2xmM3geG"
      },
      "source": [
        "## Assignment 2 -- Different Filter Implementations for Smoothing Signals"
      ]
    },
    {
      "cell_type": "code",
      "execution_count": null,
      "metadata": {
        "id": "KlUTU5y63geH"
      },
      "outputs": [],
      "source": [
        "# Part A\n",
        "# Base and noise signal from lab 2\n",
        "time  = np.arange(0,2,1/1000) # associated time vector that corresponds to 2 seconds\n",
        "n     = len(time)\n",
        "p     = 10 # points for piecewise linear signal\n",
        "amp = 20   # amplitude range of base signal\n",
        "k = 20\n",
        "base = np.interp(np.linspace(0,p,n),np.arange(0,p),np.random.rand(p)*amp)\n",
        "\n",
        "# create some random noise to be added to the abve base signals\n",
        "noiseamp = 2\n",
        "noise  = noiseamp * np.random.randn(n)\n",
        "noisy_signal = np.add(base, noise)\n",
        "\n",
        "fig = plt.figure(figsize = (10,5))\n",
        "\n",
        "plt.plot(noisy_signal, linewidth = 1, color = 'blue', label=\"Noisy Signal\") \n",
        "plt.plot(base, linewidth = 1, color = 'red', label =\"Base\")\n",
        "plt.legend(loc=\"upper right\")\n",
        "plt.ylim([0,25])  \n",
        "plt.xticks(fontsize=10)\n",
        "plt.yticks(fontsize=10) \n",
        "\n",
        "plt.xlabel('time', fontsize = 15)\n",
        "plt.ylabel('amplitude', fontsize = 15)\n",
        "plt.title('Noisey vs Base')"
      ]
    },
    {
      "cell_type": "code",
      "execution_count": null,
      "metadata": {
        "id": "PllSPUYW3geI"
      },
      "outputs": [],
      "source": [
        "# Part B\n",
        "# Filtered signal using a convolution function\n",
        "hfilt = np.ones(k+1) * 1/(k+1)\n",
        "filtsig1 = np.convolve(noisy_signal, hfilt)\n",
        "\n",
        "# Filtered signal using a lfilter function\n",
        "signal = np.zeros(n)\n",
        "signal[0] = 1\n",
        "fir_b = sig.firwin(10, 0.15)\n",
        "filtsig2 = sig.lfilter(hfilt,signal, noisy_signal)\n",
        "\n",
        "fig = plt.figure(figsize = (10,3))\n",
        "plt.plot(filtsig2, linewidth = 1, color = 'blue')\n",
        "plt.plot(filtsig1, linewidth = 1, color = 'red')\n",
        "\n",
        "plt.xticks(fontsize=10)\n",
        "plt.yticks(fontsize=10) \n",
        "\n",
        "plt.xlabel('time', fontsize = 15)\n",
        "plt.ylabel('amplitude', fontsize = 15)\n",
        "plt.title('convolution(red) vs. lfilter(blue)')"
      ]
    },
    {
      "cell_type": "code",
      "execution_count": null,
      "metadata": {
        "id": "QHQZul3A3geI"
      },
      "outputs": [],
      "source": [
        "# Part C\n",
        "plot_mag_freq_response(hfilt, signal,1,0)"
      ]
    },
    {
      "cell_type": "markdown",
      "metadata": {
        "id": "r-U4htyv3geI"
      },
      "source": [
        "###  Discussion\n",
        "\n",
        "A moving window average filter is a type of butterworth filter, or low pass filter, that does not have control over its bandwidth for a fixed amount of taps. The moving window average filter will have set coefficients while the butterworth filter is able to set different values set for each tap, hence controlling the frequency selectivity of the filter."
      ]
    },
    {
      "cell_type": "markdown",
      "metadata": {
        "id": "cEzn2rnA3geJ"
      },
      "source": [
        "## Assignment 3 -- Filtering an Audio Signal"
      ]
    },
    {
      "cell_type": "code",
      "execution_count": null,
      "metadata": {
        "id": "vyacicLI3geJ"
      },
      "outputs": [],
      "source": [
        "# Part A\n",
        "# Recall the use of numpy.fft.fft from the previous lab\n",
        "\n",
        "\n",
        "# Horn fast fourier transform\n",
        "fs, horn_arr = wav.read('horn11short.wav')\n",
        "segment = horn_arr[0:1024]\n",
        "xhf = np.fft.fft(segment)\n",
        "\n",
        "\n",
        "# Creating filters\n",
        "b, a = sig.butter(8, 550/(fs/2), 'highpass')\n",
        "w, hf = sig.freqz(b, a)\n",
        "signal = np.zeros(100)\n",
        "signal[0] = 1\n",
        "ht = sig.lfilter(b, a, signal)\n",
        "filtered_horn = sig.lfilter(b, a, horn_arr)\n",
        "filtered_horn_segment = sig.lfilter(b, a, segment)\n",
        "\n",
        "\n",
        "# Plotting\n",
        "fig = plt.figure(figsize = (15, 8))\n",
        "\n",
        "plt.subplot(2,2,1)\n",
        "plt.plot(w, 20 * np.log10(np.abs(hf)))\n",
        "plt.title('Magnitude Response of Filter')\n",
        "\n",
        "plt.subplot(2,2,2)\n",
        "plt.plot(ht)\n",
        "plt.title('Impulse Response of Filter')\n",
        "\n",
        "plt.subplot(2,2,3)\n",
        "plt.plot(np.linspace(0, fs/2, 512), np.abs(xhf[0:512]))\n",
        "plt.title('Log Magnitude for Original Horn FFT')\n",
        "\n",
        "plt.subplot(2,2,4)\n",
        "plt.plot(np.linspace(0, fs/2, 512), np.abs(np.fft.fft(filtered_horn_segment)[0:512]))\n",
        "plt.title('Log Magnitude for Filtered Horn FFT')\n",
        "\n",
        "\n",
        "# Playing unfiltered and filtered audios\n",
        "wav_horn = sa.WaveObject.from_wave_file('horn11short.wav')\n",
        "play_music = wav_horn.play()\n",
        "play_music.wait_done()\n",
        "\n",
        "wav.write('filtered_horn', fs, filtered_horn.astype('int16'))\n",
        "wav_hornfft = sa.WaveObject.from_wave_file('filtered_horn')\n",
        "play_music_a = wav_hornfft.play()\n",
        "play_music_a.wait_done()"
      ]
    },
    {
      "cell_type": "code",
      "execution_count": null,
      "metadata": {
        "id": "Z8sODmnJ3geK"
      },
      "outputs": [],
      "source": [
        "# Part B\n",
        "\n",
        "\n",
        "# Creating noise\n",
        "noisy_horn = np.add(horn_arr, 1000*np.random.randn(len(horn_arr)))\n",
        "noisy_horn_segment = np.add(segment, 1000*np.random.randn(len(segment)))\n",
        "\n",
        "# Plotting\n",
        "fig = plt.figure(figsize = (15, 4))\n",
        "\n",
        "plt.subplot(1,2,1)\n",
        "plt.plot(np.linspace(0, fs/2, 512), np.abs(xhf[0:512]))\n",
        "plt.title('Log Magnitude for Original Horn Frequency Content')\n",
        "\n",
        "plt.subplot(1,2,2)\n",
        "plt.plot(np.linspace(0, fs/2, 512), np.abs(np.fft.fft(noisy_horn_segment)[0:512]))\n",
        "plt.title('Log Magnitude for Noisy Horn Frequency Content')\n",
        "\n",
        "# Playing original and noisy audios\n",
        "wav_horn = sa.WaveObject.from_wave_file('horn11short.wav')\n",
        "play_music = wav_horn.play()\n",
        "play_music.wait_done()\n",
        "\n",
        "wav.write('noisy_horn', fs, noisy_horn.astype('int16'))\n",
        "wav_hornfft = sa.WaveObject.from_wave_file('noisy_horn')\n",
        "play_music_a = wav_hornfft.play()\n",
        "play_music_a.wait_done()"
      ]
    },
    {
      "cell_type": "code",
      "execution_count": null,
      "metadata": {
        "id": "kXwdMif93geK"
      },
      "outputs": [],
      "source": [
        "# Part C\n",
        "\n",
        "\n",
        "# Creating filters\n",
        "b, a = sig.butter(8, 1800/(fs/2), 'lowpass')\n",
        "w, hf = sig.freqz(b, a)\n",
        "signal = np.zeros(100)\n",
        "signal[0] = 1\n",
        "ht = sig.lfilter(b, a, signal)\n",
        "filtered_noisy_horn = sig.lfilter(b, a, noisy_horn)\n",
        "filtered_noisy_horn_segment = sig.lfilter(b, a, noisy_horn_segment)\n",
        "\n",
        "\n",
        "# Plotting\n",
        "fig = plt.figure(figsize = (15, 8))\n",
        "\n",
        "plt.subplot(2,2,1)\n",
        "plt.plot(w, 20 * np.log10(np.abs(hf)))\n",
        "plt.title('Magnitude Response of Filter')\n",
        "\n",
        "plt.subplot(2,2,2)\n",
        "plt.plot(ht)\n",
        "plt.title('Impulse Response of Filter')\n",
        "\n",
        "plt.subplot(2,2,3)\n",
        "plt.plot(np.linspace(0, fs/2, 512), np.abs(np.fft.fft(noisy_horn_segment)[0:512]))\n",
        "plt.title('Log Magnitude for Original Noisy Horn Frequency Content')\n",
        "\n",
        "plt.subplot(2,2,4)\n",
        "plt.plot(np.linspace(0, fs/2, 512), np.abs(np.fft.fft(filtered_noisy_horn_segment)[0:512]))\n",
        "plt.title('Log Magnitude for Filtered Noisy Horn Frequency Content')\n",
        "\n",
        "\n",
        "# Playing original, noisy, and filtered noisy audios\n",
        "wav_horn = sa.WaveObject.from_wave_file('horn11short.wav')\n",
        "play_music = wav_horn.play()\n",
        "play_music.wait_done()\n",
        "\n",
        "wav_hornfft = sa.WaveObject.from_wave_file('noisy_horn')\n",
        "play_music_a = wav_hornfft.play()\n",
        "play_music_a.wait_done()\n",
        "\n",
        "wav.write('filtered_horn_2', fs, filtered_noisy_horn.astype('int16'))\n",
        "wav_hornfft = sa.WaveObject.from_wave_file('filtered_horn_2')\n",
        "play_music_a = wav_hornfft.play()\n",
        "play_music_a.wait_done()"
      ]
    },
    {
      "cell_type": "markdown",
      "metadata": {
        "id": "jpsVwCSO3geL"
      },
      "source": [
        "###  Discussion\n",
        "\n",
        "While the first harmonic is attenuated and the magnitude of the spike at the first harmonic in the frequency response plot is reduced by a few orders of magnitude, it is still the most prominent harmonic out of all the harmonics in the audio file. The volume is decreased because it was attenuated so much, but the first harmonic remains the strongest one. The impulse response of the HPF has a sharper initial spike than the impulse response of the LPF. After the initial spike in each impulse response, the LPF impulse response has tighter waveforms. The differences in these impulse responses are caused by differences in the filters themselves, as evident in the magnitude response plots. The HPF has a sharp cutoff, and attenuates low frequencies very quickly, whereas the LPF magnitude response is much softer, indicating that higher frequencies are attenuated less sharply."
      ]
    },
    {
      "cell_type": "markdown",
      "metadata": {
        "id": "LRWwtZib3geL"
      },
      "source": [
        "## Assignment 4 -- Implementing a 3-Band Audio Equalizer"
      ]
    },
    {
      "cell_type": "code",
      "execution_count": null,
      "metadata": {
        "id": "xVHrVwa03geL"
      },
      "outputs": [],
      "source": [
        "# Part A\n",
        "\n",
        "b_lp, a_lp = sig.butter(5, 1/4, 'lowpass')\n",
        "b_bp, a_bp = sig.butter(5, (1/4, 1/2), 'bandpass')\n",
        "b_hp, a_hp = sig.butter(5, 1/2, 'highpass')\n",
        "\n",
        "w_lp, hf_lp = sig.freqz(b_lp, a_lp)\n",
        "w_bp, hf_bp = sig.freqz(b_bp, a_bp)\n",
        "w_hp, hf_hp = sig.freqz(b_hp, a_hp)\n",
        "\n",
        "plt.plot(w_lp, 20 * np.log10(np.abs(hf_lp)))\n",
        "plt.plot(w_bp, 20 * np.log10(np.abs(hf_bp)))\n",
        "plt.plot(w_hp, 20 * np.log10(np.abs(hf_hp)))\n",
        "plt.title('Magnitude Responses of Butterworth LPF, BPF, and HPF')"
      ]
    },
    {
      "cell_type": "code",
      "execution_count": null,
      "metadata": {
        "id": "OmqLwXB73geM"
      },
      "outputs": [],
      "source": [
        "# Part B\n",
        "\n",
        "def audio_equalizer(audio, G1, G2, G3):\n",
        "    b_lp, a_lp = sig.butter(5, 1/4, 'lowpass')\n",
        "    b_bp, a_bp = sig.butter(5, (1/4, 1/2), 'bandpass')\n",
        "    b_hp, a_hp = sig.butter(5, 1/2, 'highpass')\n",
        "    \n",
        "    y_lp = sig.lfilter(b_lp, a_lp, audio)\n",
        "    y_bp = sig.lfilter(b_bp, a_bp, audio)\n",
        "    y_hp = sig.lfilter(b_hp, a_hp, audio)\n",
        "    \n",
        "    y_lp = y_lp * (10 ** (1/20 * G1))\n",
        "    y_bp = y_bp * (10 ** (1/20 * G2))\n",
        "    y_hp = y_hp * (10 ** (1/20 * G3))\n",
        "    return (y_lp + y_bp + y_hp)"
      ]
    },
    {
      "cell_type": "code",
      "execution_count": null,
      "metadata": {
        "id": "H1Fus_zh3geM"
      },
      "outputs": [],
      "source": [
        "# Part C\n",
        "fs, music_arr = wav.read('music.wav')\n",
        "combine_chan   = np.add(music_arr[:, 0]/2 , music_arr[:, 1]/2) \n",
        "\n",
        "wav_music = sa.WaveObject.from_wave_file('music.wav')\n",
        "play_music = wav_music.play()\n",
        "play_music.wait_done()\n",
        "\n",
        "a = audio_equalizer(music_arr[:, 0], 0, 0 ,0)\n",
        "b = audio_equalizer(music_arr[:, 1], 0, 0 ,0)\n",
        "combine_chan  = np.vstack([a/2 ,b/2]) \n",
        "chan = combine_chan.T\n",
        "\n",
        "wav.write('music_a', fs, chan.astype('int16'))\n",
        "wav_music_a = sa.WaveObject.from_wave_file('music_a')\n",
        "play_music_a = wav_music_a.play()\n",
        "play_music_a.wait_done()"
      ]
    },
    {
      "cell_type": "code",
      "execution_count": null,
      "metadata": {
        "id": "kDlxXERJ3geM"
      },
      "outputs": [],
      "source": [
        "# Part D\n",
        "a_1 = audio_equalizer(music_arr[:, 0], 0, 0 ,-40)\n",
        "b_1 = audio_equalizer(music_arr[:, 1], 0, 0 ,-40)\n",
        "combine_chan_1  = np.vstack([a_1/2 ,b_1/2]) \n",
        "chan_1 = combine_chan_1.T\n",
        "\n",
        "wav.write('music_b', fs, chan_1.astype('int16'))\n",
        "wav_music_b = sa.WaveObject.from_wave_file('music_b')\n",
        "play_music_b = wav_music_b.play()\n",
        "play_music_b.wait_done()"
      ]
    },
    {
      "cell_type": "markdown",
      "metadata": {
        "id": "BBbIGA6T3geN"
      },
      "source": [
        "### Discussion\n",
        "\n",
        "Larger gains lead to more obvious audible differences. A few restraints that we need to put on the gains include making sure that the gains affect frequencies within the human range of hearing as well as ensuring the gains do not saturate, ie. suprass or equal max gain of speaker system."
      ]
    }
  ],
  "metadata": {
    "kernelspec": {
      "display_name": "Python 3",
      "language": "python",
      "name": "python3"
    },
    "language_info": {
      "codemirror_mode": {
        "name": "ipython",
        "version": 3
      },
      "file_extension": ".py",
      "mimetype": "text/x-python",
      "name": "python",
      "nbconvert_exporter": "python",
      "pygments_lexer": "ipython3",
      "version": "3.8.8"
    },
    "colab": {
      "provenance": [],
      "include_colab_link": true
    }
  },
  "nbformat": 4,
  "nbformat_minor": 0
}
